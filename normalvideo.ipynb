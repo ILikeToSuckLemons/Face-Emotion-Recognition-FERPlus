{
 "cells": [
  {
   "cell_type": "code",
   "execution_count": 2,
   "metadata": {},
   "outputs": [
    {
     "name": "stdout",
     "output_type": "stream",
     "text": [
      "✅ Model & Face Detector Loaded! Starting Webcam...\n"
     ]
    }
   ],
   "source": [
    "import cv2\n",
    "import torch\n",
    "import numpy as np\n",
    "import torch.nn.functional as F\n",
    "from torchvision import transforms\n",
    "from models import PerformanceModel\n",
    "\n",
    "# ✅ Load the trained PyTorch model (Use GPU if available)\n",
    "device = torch.device(\"cuda\" if torch.cuda.is_available() else \"cpu\")\n",
    "model_path = r\"C:\\Users\\JAMES FARELL LATANNA\\Downloads\\Lastchance\\model\\ferplus_model_pd_acc.pth\"\n",
    "model = PerformanceModel(input_shape=(1, 48, 48), n_classes=8, logits=True).to(device)\n",
    "model.load_state_dict(torch.load(model_path, map_location=device))\n",
    "model.eval()\n",
    "\n",
    "# ✅ Emotion categories (Order must match training data)\n",
    "emotions = [\"Neutral\", \"Happy\", \"Surprise\", \"Sad\", \"Angry\", \"Disgust\", \"Fear\", \"Contempt\"]\n",
    "\n",
    "# ✅ Define colors for each emotion\n",
    "emotion_colors = {\n",
    "    \"Neutral\": (255, 255, 255),  # White\n",
    "    \"Happy\": (0, 255, 255),  # Yellow\n",
    "    \"Surprise\": (0, 165, 255),  # Orange\n",
    "    \"Sad\": (255, 0, 0),  # Blue\n",
    "    \"Angry\": (0, 0, 255),  # Red\n",
    "    \"Disgust\": (128, 0, 128),  # Purple\n",
    "    \"Fear\": (255, 255, 0),  # Cyan\n",
    "    \"Contempt\": (0, 255, 0)  # Green\n",
    "}\n",
    "\n",
    "# ✅ OpenCV face detector\n",
    "haar_cascade = cv2.CascadeClassifier(cv2.data.haarcascades + \"haarcascade_frontalface_default.xml\")\n",
    "vid = cv2.VideoCapture(0)  # Start webcam\n",
    "\n",
    "# ✅ Optimized Preprocessing Pipeline (No PIL conversion, Faster NumPy)\n",
    "transform = transforms.Compose([\n",
    "    transforms.ToTensor(),  \n",
    "    transforms.Resize((48, 48)),  # Resize directly\n",
    "    transforms.Normalize(mean=[0.5], std=[0.5])  # Normalize\n",
    "])\n",
    "\n",
    "print(\"✅ Model & Face Detector Loaded! Starting Webcam...\")\n",
    "\n",
    "frame_count = 0  # To control face detection frequency\n",
    "\n",
    "while True:\n",
    "    ret, frame = vid.read()\n",
    "    if not ret:\n",
    "        break\n",
    "\n",
    "    gray = cv2.cvtColor(frame, cv2.COLOR_BGR2GRAY)  # Convert to grayscale\n",
    "\n",
    "    # ✅ Run face detection only every 3 frames (to reduce lag)\n",
    "    if frame_count % 3 == 0:\n",
    "        faces = haar_cascade.detectMultiScale(gray, scaleFactor=1.2, minNeighbors=5, minSize=(48, 48))\n",
    "    frame_count += 1\n",
    "\n",
    "    for (x, y, w, h) in faces:\n",
    "        face_img = gray[y:y + h, x:x + w]  # Extract face\n",
    "        face_img = cv2.resize(face_img, (48, 48))  # Resize directly with OpenCV (faster than PIL)\n",
    "        face_img = np.expand_dims(face_img, axis=0)  # Add channel dimension (1,48,48)\n",
    "        face_tensor = torch.tensor(face_img, dtype=torch.float32).div(255).sub(0.5).div(0.5).unsqueeze(0).to(device)\n",
    "\n",
    "        # ✅ Run model inference\n",
    "        with torch.no_grad():\n",
    "            outputs = model(face_tensor)\n",
    "            probs = F.softmax(outputs, dim=1)[0].cpu().numpy()\n",
    "            top_emotion_idx = np.argmax(probs)\n",
    "            top_emotion = emotions[top_emotion_idx]\n",
    "\n",
    "        # ✅ Get color for highest emotion\n",
    "        top_color = emotion_colors[top_emotion]  \n",
    "\n",
    "        # ✅ Draw rectangle around face\n",
    "        cv2.rectangle(frame, (x, y), (x + w, y + h), (255, 255, 255), 2)\n",
    "\n",
    "        # ✅ Display emotions (Top emotion gets its unique color)\n",
    "        for i, (emotion, prob) in enumerate(zip(emotions, probs)):\n",
    "            color = top_color if i == top_emotion_idx else (255, 255, 255)  # Unique color for top emotion, white for others\n",
    "            text = f\"{emotion}: {int(prob * 100)}%\"\n",
    "            cv2.putText(frame, text, (x, y - 10 - (i * 20)), cv2.FONT_HERSHEY_SIMPLEX, 0.6, color, 2)\n",
    "\n",
    "    cv2.imshow(\"Facial Emotion Recognition\", frame)\n",
    "\n",
    "    if cv2.waitKey(1) & 0xFF == ord('q'):\n",
    "        break\n",
    "\n",
    "vid.release()\n",
    "cv2.destroyAllWindows()"
   ]
  },
  {
   "cell_type": "code",
   "execution_count": null,
   "metadata": {},
   "outputs": [],
   "source": []
  },
  {
   "cell_type": "code",
   "execution_count": null,
   "metadata": {},
   "outputs": [],
   "source": []
  },
  {
   "cell_type": "code",
   "execution_count": null,
   "metadata": {},
   "outputs": [],
   "source": []
  },
  {
   "cell_type": "code",
   "execution_count": null,
   "metadata": {},
   "outputs": [],
   "source": []
  },
  {
   "cell_type": "code",
   "execution_count": null,
   "metadata": {},
   "outputs": [],
   "source": []
  }
 ],
 "metadata": {
  "kernelspec": {
   "display_name": "Python 3",
   "language": "python",
   "name": "python3"
  },
  "language_info": {
   "codemirror_mode": {
    "name": "ipython",
    "version": 3
   },
   "file_extension": ".py",
   "mimetype": "text/x-python",
   "name": "python",
   "nbconvert_exporter": "python",
   "pygments_lexer": "ipython3",
   "version": "3.12.3"
  }
 },
 "nbformat": 4,
 "nbformat_minor": 2
}
