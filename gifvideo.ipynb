{
 "cells": [
  {
   "cell_type": "code",
   "execution_count": 1,
   "metadata": {},
   "outputs": [],
   "source": [
    "import cv2\n",
    "import torch\n",
    "import numpy as np\n",
    "import torch.nn.functional as F\n",
    "from torchvision import transforms\n",
    "from models import PerformanceModel\n",
    "from emotionoverlay import EmotionOverlay  # Import EmotionOverlay"
   ]
  },
  {
   "cell_type": "code",
   "execution_count": 12,
   "metadata": {},
   "outputs": [],
   "source": [
    "from gifoverlay import GifEmotionOverlay\n"
   ]
  },
  {
   "cell_type": "code",
   "execution_count": 13,
   "metadata": {},
   "outputs": [],
   "source": [
    "gif_overlay = GifEmotionOverlay(\"EmojiGif/\")  # Use the correct folder\n"
   ]
  },
  {
   "cell_type": "code",
   "execution_count": 14,
   "metadata": {},
   "outputs": [],
   "source": [
    "# Load the trained PyTorch model (Use GPU if available)\n",
    "device = torch.device(\"cuda\" if torch.cuda.is_available() else \"cpu\")\n",
    "model_path = \"model/ferplus_model_pd_acc.pth\"\n",
    "model = PerformanceModel(input_shape=(1, 48, 48), n_classes=8, logits=True).to(device)\n",
    "model.load_state_dict(torch.load(model_path, map_location=device))\n",
    "model.eval()\n",
    "\n",
    "#Emotion categories (Order must match training data)\n",
    "emotions = [\"Neutral\", \"Happy\", \"Surprise\", \"Sad\", \"Angry\", \"Disgust\", \"Fear\", \"Contempt\"]\n",
    "\n",
    "#OpenCV face detector\n",
    "haar_cascade = cv2.CascadeClassifier(cv2.data.haarcascades + \"haarcascade_frontalface_default.xml\")\n",
    "vid = cv2.VideoCapture(0)  # Start webcam\n",
    "\n",
    "# Optimized Preprocessing Pipeline (No PIL conversion, Faster NumPy)\n",
    "transform = transforms.Compose([\n",
    "    transforms.ToTensor(),  \n",
    "    transforms.Resize((48, 48)),  # Resize directly\n",
    "    transforms.Normalize(mean=[0.5], std=[0.5])  # Normalize\n",
    "])\n",
    "\n",
    "\n"
   ]
  },
  {
   "cell_type": "code",
   "execution_count": 15,
   "metadata": {},
   "outputs": [],
   "source": [
    "# Load the trained PyTorch model (Use GPU if available)\n",
    "device = torch.device(\"cuda\" if torch.cuda.is_available() else \"cpu\")\n",
    "model_path = \"model/ferplus_model_pd_acc.pth\"\n",
    "model = PerformanceModel(input_shape=(1, 48, 48), n_classes=8, logits=True).to(device)\n",
    "model.load_state_dict(torch.load(model_path, map_location=device))\n",
    "model.eval()\n",
    "\n",
    "#Emotion categories (Order must match training data)\n",
    "emotions = [\"Neutral\", \"Happy\", \"Surprise\", \"Sad\", \"Angry\", \"Disgust\", \"Fear\", \"Contempt\"]\n",
    "\n",
    "#OpenCV face detector\n",
    "haar_cascade = cv2.CascadeClassifier(cv2.data.haarcascades + \"haarcascade_frontalface_default.xml\")\n",
    "vid = cv2.VideoCapture(0)  # Start webcam\n",
    "\n",
    "# Optimized Preprocessing Pipeline (No PIL conversion, Faster NumPy)\n",
    "transform = transforms.Compose([\n",
    "    transforms.ToTensor(),  \n",
    "    transforms.Resize((48, 48)),  # Resize directly\n",
    "    transforms.Normalize(mean=[0.5], std=[0.5])  # Normalize\n",
    "])\n",
    "\n",
    "\n"
   ]
  },
  {
   "cell_type": "code",
   "execution_count": 16,
   "metadata": {},
   "outputs": [],
   "source": [
    "emotion_text_colors = {\n",
    "    \"Neutral\": [(255,255,255), (224,212,196), (228,203,179)],\n",
    "    \"Happy\": [(182,110,68), (76,235,253), (83,169,242)],\n",
    "    \"Surprise\": [(247,255,0), (42,42,165), (232,206,0)],\n",
    "    \"Sad\": [(194,105,3), (228,172,32), (237,202,162)],\n",
    "    \"Angry\": [(61, 57, 242), (49,121,249), (232,220,214)],\n",
    "    \"Disgust\": [(70,190,77), (120,159,6), (100,55,124)],\n",
    "    \"Fear\": [(198, 128, 134), (133,71,68), (80,45,98)],\n",
    "    \"Contempt\": [(160, 134, 72), (145, 180, 250), (173, 217, 251)]\n",
    "}\n",
    "color_index = 0  # Track which color is active\n"
   ]
  },
  {
   "cell_type": "code",
   "execution_count": 17,
   "metadata": {},
   "outputs": [],
   "source": [
    "emotion_colors = {\n",
    "    \"Neutral\": (255, 255, 255),  # White\n",
    "    \"Happy\": (0, 255, 255),  # Yellow\n",
    "    \"Surprise\": (0, 165, 255),  # Orange\n",
    "    \"Sad\": (255, 0, 0),  # Blue\n",
    "    \"Angry\": (0, 0, 255),  # Red\n",
    "    \"Disgust\": (128, 0, 128),  # Purple\n",
    "    \"Fear\": (255, 255, 0),  # Cyan\n",
    "    \"Contempt\": (0, 255, 0)  # Green\n",
    "}"
   ]
  },
  {
   "cell_type": "code",
   "execution_count": 18,
   "metadata": {},
   "outputs": [],
   "source": [
    "frame_count = 0  # To control face detection frequency\n",
    "animation_offset = 0  # For floating animation\n",
    "offset_direction = 1  # To make it go up/down"
   ]
  },
  {
   "cell_type": "code",
   "execution_count": 19,
   "metadata": {},
   "outputs": [],
   "source": [
    "while True:\n",
    "    ret, frame = vid.read()\n",
    "    if not ret:\n",
    "        break\n",
    "\n",
    "    gray = cv2.cvtColor(frame, cv2.COLOR_BGR2GRAY)  # Convert to grayscale\n",
    "\n",
    "    # Change color every 10 frames\n",
    "    if frame_count % 10 == 0:  \n",
    "        color_index = (color_index + 1) % 3  # Cycle through 3 colors\n",
    "\n",
    "    #Run face detection only every 3 frames (to reduce lag)\n",
    "    if frame_count % 3 == 0:\n",
    "        faces = haar_cascade.detectMultiScale(gray, scaleFactor=1.2, minNeighbors=5, minSize=(48, 48))\n",
    "    frame_count += 1\n",
    "    \n",
    "\n",
    "    for (x, y, w, h) in faces:\n",
    "        face_img = gray[y:y + h, x:x + w]  # Extract face\n",
    "        face_img = cv2.resize(face_img, (48, 48))  # Resize directly with OpenCV (faster than PIL)\n",
    "        face_img = np.expand_dims(face_img, axis=0)  # Add channel dimension (1,48,48)\n",
    "        face_tensor = torch.tensor(face_img, dtype=torch.float32).div(255).sub(0.5).div(0.5).unsqueeze(0).to(device)\n",
    "\n",
    "        #Run model inference\n",
    "        with torch.no_grad():\n",
    "            outputs = model(face_tensor)\n",
    "            probs = F.softmax(outputs, dim=1)[0].cpu().numpy()\n",
    "            top_emotion_idx = np.argmax(probs)\n",
    "            top_emotion = emotions[top_emotion_idx]\n",
    "\n",
    "        #Floating animation logic\n",
    "        animation_offset += offset_direction * 2  # Move up/down by 2 pixels\n",
    "        if abs(animation_offset) > 10:\n",
    "            offset_direction *= -1  # Reverse direction\n",
    "\n",
    "        #Overlay character\n",
    "        frame = gif_overlay.overlay_gif(frame, top_emotion, x, y, w, h, animation_offset)\n",
    "\n",
    "\n",
    "        #Draw rectangle around face\n",
    "        box_color = emotion_colors.get(top_emotion, (255, 255, 255))  # Default to white if not found\n",
    "        cv2.rectangle(frame, (x, y), (x + w, y + h), box_color, 2)  # Draw box with emotion color\n",
    "\n",
    "\n",
    "        #Display emotions (Top emotion gets its unique color)\n",
    "        for i, (emotion, prob) in enumerate(zip(emotions, probs)):\n",
    "            # Use cycling color for the top emotion, default white for others\n",
    "            if i == top_emotion_idx:\n",
    "                text_color = emotion_text_colors[top_emotion][color_index]  # Cycle colors\n",
    "            else:\n",
    "                text_color = (255, 255, 255)  # Keep other text white\n",
    "\n",
    "            text = f\"{emotion}: {int(prob * 100)}%\"\n",
    "            cv2.putText(frame, text, (x, y - 10 - (i * 20)), cv2.FONT_HERSHEY_SIMPLEX, 0.6, text_color, 2)\n",
    "\n",
    "\n",
    "    cv2.imshow(\"Facial Emotion Recognition\", frame)\n",
    "\n",
    "    if cv2.waitKey(1) & 0xFF == ord('q'):\n",
    "        break\n",
    "\n",
    "vid.release()\n",
    "cv2.destroyAllWindows()"
   ]
  },
  {
   "cell_type": "code",
   "execution_count": null,
   "metadata": {},
   "outputs": [],
   "source": []
  },
  {
   "cell_type": "code",
   "execution_count": null,
   "metadata": {},
   "outputs": [],
   "source": []
  }
 ],
 "metadata": {
  "kernelspec": {
   "display_name": "Python 3",
   "language": "python",
   "name": "python3"
  },
  "language_info": {
   "codemirror_mode": {
    "name": "ipython",
    "version": 3
   },
   "file_extension": ".py",
   "mimetype": "text/x-python",
   "name": "python",
   "nbconvert_exporter": "python",
   "pygments_lexer": "ipython3",
   "version": "3.12.3"
  }
 },
 "nbformat": 4,
 "nbformat_minor": 2
}
