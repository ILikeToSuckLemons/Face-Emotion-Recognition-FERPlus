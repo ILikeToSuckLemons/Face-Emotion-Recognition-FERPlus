{
 "cells": [
  {
   "cell_type": "code",
   "execution_count": 3,
   "metadata": {},
   "outputs": [],
   "source": [
    "import cv2\n",
    "import torch\n",
    "import numpy as np\n",
    "import torch.nn.functional as F\n",
    "from torchvision import transforms\n",
    "from models import PerformanceModel\n",
    "from emotionoverlay import EmotionOverlay  # Import EmotionOverlay"
   ]
  },
  {
   "cell_type": "code",
   "execution_count": 1,
   "metadata": {},
   "outputs": [],
   "source": [
    "from gifoverlay import GifEmotionOverlay\n"
   ]
  },
  {
   "cell_type": "code",
   "execution_count": 2,
   "metadata": {},
   "outputs": [],
   "source": [
    "gif_overlay = GifEmotionOverlay(\"EmojiGif/\")  # Use the correct folder\n"
   ]
  },
  {
   "cell_type": "code",
   "execution_count": 4,
   "metadata": {},
   "outputs": [],
   "source": [
    "# Load the trained PyTorch model (Use GPU if available)\n",
    "device = torch.device(\"cuda\" if torch.cuda.is_available() else \"cpu\")\n",
    "model_path = \"model/ferplus_model_pd_acc.pth\"\n",
    "model = PerformanceModel(input_shape=(1, 48, 48), n_classes=8, logits=True).to(device)\n",
    "model.load_state_dict(torch.load(model_path, map_location=device))\n",
    "model.eval()\n",
    "\n",
    "#Emotion categories (Order must match training data)\n",
    "emotions = [\"Neutral\", \"Happy\", \"Surprise\", \"Sad\", \"Angry\", \"Disgust\", \"Fear\", \"Contempt\"]\n",
    "\n",
    "#OpenCV face detector\n",
    "haar_cascade = cv2.CascadeClassifier(cv2.data.haarcascades + \"haarcascade_frontalface_default.xml\")\n",
    "vid = cv2.VideoCapture(0)  # Start webcam\n",
    "\n",
    "# Optimized Preprocessing Pipeline (No PIL conversion, Faster NumPy)\n",
    "transform = transforms.Compose([\n",
    "    transforms.ToTensor(),  \n",
    "    transforms.Resize((48, 48)),  # Resize directly\n",
    "    transforms.Normalize(mean=[0.5], std=[0.5])  # Normalize\n",
    "])\n",
    "\n",
    "\n"
   ]
  },
  {
   "cell_type": "code",
   "execution_count": 5,
   "metadata": {},
   "outputs": [],
   "source": [
    "# Load the trained PyTorch model (Use GPU if available)\n",
    "device = torch.device(\"cuda\" if torch.cuda.is_available() else \"cpu\")\n",
    "model_path = \"model/ferplus_model_pd_acc.pth\"\n",
    "model = PerformanceModel(input_shape=(1, 48, 48), n_classes=8, logits=True).to(device)\n",
    "model.load_state_dict(torch.load(model_path, map_location=device))\n",
    "model.eval()\n",
    "\n",
    "#Emotion categories (Order must match training data)\n",
    "emotions = [\"Neutral\", \"Happy\", \"Surprise\", \"Sad\", \"Angry\", \"Disgust\", \"Fear\", \"Contempt\"]\n",
    "\n",
    "#OpenCV face detector\n",
    "haar_cascade = cv2.CascadeClassifier(cv2.data.haarcascades + \"haarcascade_frontalface_default.xml\")\n",
    "vid = cv2.VideoCapture(0)  # Start webcam\n",
    "\n",
    "# Optimized Preprocessing Pipeline (No PIL conversion, Faster NumPy)\n",
    "transform = transforms.Compose([\n",
    "    transforms.ToTensor(),  \n",
    "    transforms.Resize((48, 48)),  # Resize directly\n",
    "    transforms.Normalize(mean=[0.5], std=[0.5])  # Normalize\n",
    "])\n",
    "\n",
    "\n"
   ]
  },
  {
   "cell_type": "code",
   "execution_count": 6,
   "metadata": {},
   "outputs": [],
   "source": [
    "emotion_text_colors = {\n",
    "    \"Neutral\": [(255,255,255), (224,212,196), (228,203,179)],\n",
    "    \"Happy\": [(182,110,68), (76,235,253), (83,169,242)],\n",
    "    \"Surprise\": [(247,255,0), (42,42,165), (232,206,0)],\n",
    "    \"Sad\": [(194,105,3), (228,172,32), (237,202,162)],\n",
    "    \"Angry\": [(61, 57, 242), (49,121,249), (232,220,214)],\n",
    "    \"Disgust\": [(70,190,77), (120,159,6), (100,55,124)],\n",
    "    \"Fear\": [(198, 128, 134), (133,71,68), (80,45,98)],\n",
    "    \"Contempt\": [(160, 134, 72), (145, 180, 250), (173, 217, 251)]\n",
    "}\n",
    "color_index = 0  # Track which color is active\n"
   ]
  },
  {
   "cell_type": "code",
   "execution_count": 7,
   "metadata": {},
   "outputs": [],
   "source": [
    "emotion_colors = {\n",
    "    \"Neutral\": (255, 255, 255),  # White\n",
    "    \"Happy\": (0, 255, 255),  # Yellow\n",
    "    \"Surprise\": (0, 165, 255),  # Orange\n",
    "    \"Sad\": (255, 0, 0),  # Blue\n",
    "    \"Angry\": (0, 0, 255),  # Red\n",
    "    \"Disgust\": (128, 0, 128),  # Purple\n",
    "    \"Fear\": (255, 255, 0),  # Cyan\n",
    "    \"Contempt\": (0, 255, 0)  # Green\n",
    "}"
   ]
  },
  {
   "cell_type": "code",
   "execution_count": null,
   "metadata": {},
   "outputs": [],
   "source": []
  },
  {
   "cell_type": "code",
   "execution_count": null,
   "metadata": {},
   "outputs": [],
   "source": []
  },
  {
   "cell_type": "code",
   "execution_count": null,
   "metadata": {},
   "outputs": [],
   "source": []
  }
 ],
 "metadata": {
  "kernelspec": {
   "display_name": "Python 3",
   "language": "python",
   "name": "python3"
  },
  "language_info": {
   "codemirror_mode": {
    "name": "ipython",
    "version": 3
   },
   "file_extension": ".py",
   "mimetype": "text/x-python",
   "name": "python",
   "nbconvert_exporter": "python",
   "pygments_lexer": "ipython3",
   "version": "3.12.3"
  }
 },
 "nbformat": 4,
 "nbformat_minor": 2
}
